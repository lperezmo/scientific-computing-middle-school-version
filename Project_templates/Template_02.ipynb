{
 "cells": [
  {
   "cell_type": "markdown",
   "metadata": {},
   "source": [
    "# Fun with floating boxes\n",
    "\n",
    "#### 1. Run all the cells and see what happens!\n",
    "\n",
    "#### 2. Change the program to do something you want!"
   ]
  },
  {
   "cell_type": "code",
   "execution_count": 82,
   "metadata": {},
   "outputs": [],
   "source": [
    "import pyautogui \n",
    "import time"
   ]
  },
  {
   "cell_type": "code",
   "execution_count": 114,
   "metadata": {},
   "outputs": [
    {
     "data": {
      "text/plain": [
       "'Thanks!'"
      ]
     },
     "execution_count": 114,
     "metadata": {},
     "output_type": "execute_result"
    }
   ],
   "source": [
    "name = pyautogui.prompt(text = \"Hi! Welcome to Python programming! \\nType in your name\")\n",
    "\n",
    "pyautogui.alert(text = f\"That is a great name, {name}\", button = \"Thanks!\")"
   ]
  },
  {
   "cell_type": "code",
   "execution_count": 115,
   "metadata": {},
   "outputs": [
    {
     "data": {
      "text/plain": [
       "'Thanks!'"
      ]
     },
     "execution_count": 115,
     "metadata": {},
     "output_type": "execute_result"
    }
   ],
   "source": [
    "grade = pyautogui.prompt(text = f\"What grade would you like to get on this mini course, {name}?\")\n",
    "\n",
    "pyautogui.alert(text = f\"It's great you want an {grade}, {name}!\", button = \"Thanks!\")"
   ]
  },
  {
   "cell_type": "code",
   "execution_count": 112,
   "metadata": {},
   "outputs": [],
   "source": [
    "turtle_eyes = pyautogui.prompt(text = f\"How many eyes do turtles have, {name}?\")\n",
    "\n",
    "if int(turtle_eyes) == 2:\n",
    "    pyautogui.alert(text = f\"Great choice, {name}!\")\n",
    "elif int(turtle_eyes) == 3:\n",
    "    pyautogui.alert(text = f\"That must be a mutant turtle, {name}!\")\n",
    "else:\n",
    "    pyautogui.alert(text = f\"Ha ha! Good try, {name}!\")"
   ]
  },
  {
   "cell_type": "code",
   "execution_count": 116,
   "metadata": {},
   "outputs": [
    {
     "data": {
      "text/plain": [
       "\"You're welcome!\""
      ]
     },
     "execution_count": 116,
     "metadata": {},
     "output_type": "execute_result"
    }
   ],
   "source": [
    "pyautogui.alert(text = \"Thank you for playing the floating boxes game!\", button = \"You're welcome!\" )"
   ]
  },
  {
   "cell_type": "code",
   "execution_count": null,
   "metadata": {},
   "outputs": [],
   "source": []
  }
 ],
 "metadata": {
  "kernelspec": {
   "display_name": "Main",
   "language": "python",
   "name": "main"
  },
  "language_info": {
   "codemirror_mode": {
    "name": "ipython",
    "version": 3
   },
   "file_extension": ".py",
   "mimetype": "text/x-python",
   "name": "python",
   "nbconvert_exporter": "python",
   "pygments_lexer": "ipython3",
   "version": "3.7.7"
  }
 },
 "nbformat": 4,
 "nbformat_minor": 4
}
